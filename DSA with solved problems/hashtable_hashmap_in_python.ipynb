{
  "metadata": {
    "language_info": {
      "codemirror_mode": {
        "name": "python",
        "version": 3
      },
      "file_extension": ".py",
      "mimetype": "text/x-python",
      "name": "python",
      "nbconvert_exporter": "python",
      "pygments_lexer": "ipython3",
      "version": "3.8"
    },
    "kernelspec": {
      "name": "python",
      "display_name": "Python (Pyodide)",
      "language": "python"
    }
  },
  "nbformat_minor": 4,
  "nbformat": 4,
  "cells": [
    {
      "cell_type": "markdown",
      "source": "### Hashtable and hashmap in python\n\nIn Python, the terms `\"hashtable\"` and `\"hashmap\"` are often used interchangeably, as the built-in dictionary data type in Python is a hash table-based implementation of a map. However, there are some subtle differences between the two terms.\n\nTechnically speaking, a hashtable is a more general term that refers to any data structure that uses a hash function to map keys to indices in an array. A hashmap is a specific type of hashtable that uses chaining to handle collisions (i.e., when two or more keys hash to the same index).\n\nIn Python, the built-in dictionary data type is implemented as a hashmap. When you add a key-value pair to a dictionary, Python hashes the key to determine the index in the underlying array where the value should be stored. If there is already a value stored at that index (i.e., a collision has occurred), Python uses linked lists to chain together all the key-value pairs that have hashed to that index.\n\nSo, in practice, the difference between a hashtable and a hashmap in Python is largely semantic. Both terms refer to the same underlying data structure, with the same performance characteristics and features. ***The built-in dictionary type in Python is a highly optimized and efficient implementation of a hashmap, and it is the recommended way to store and retrieve key-value pairs in most Python applications.***\n\n",
      "metadata": {}
    },
    {
      "cell_type": "code",
      "source": "",
      "metadata": {},
      "execution_count": null,
      "outputs": []
    }
  ]
}