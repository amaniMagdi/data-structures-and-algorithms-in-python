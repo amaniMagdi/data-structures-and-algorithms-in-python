{
  "metadata": {
    "language_info": {
      "codemirror_mode": {
        "name": "python",
        "version": 3
      },
      "file_extension": ".py",
      "mimetype": "text/x-python",
      "name": "python",
      "nbconvert_exporter": "python",
      "pygments_lexer": "ipython3",
      "version": "3.8"
    },
    "kernelspec": {
      "name": "python",
      "display_name": "Python (Pyodide)",
      "language": "python"
    }
  },
  "nbformat_minor": 4,
  "nbformat": 4,
  "cells": [
    {
      "cell_type": "markdown",
      "source": "**QUESTION 1:** Alice has some cards with numbers written on them. She arranges the cards in decreasing order, and lays them out face down in a sequence on a table. She challenges Bob to pick out the card containing a given number by turning over as few cards as possible. Write a function to help Bob locate the card.\n\nwill follow our 6 steps to solve this problem:\n##### Step#1:\n##### Input\n\n1.  `cards`: A list of numbers sorted in decreasing order. \n2.  `query`: A number, whose position in the array is to be determined. \n\n##### Output\n\n3.  `position`: The position of `query` in the list `cards`\n\n##### Step#2:",
      "metadata": {}
    },
    {
      "cell_type": "code",
      "source": "tests= [{'input': {'cards': [13, 11, 10, 7, 4, 3, 1, 0], 'query': 7}, 'output': 3},\n {'input': {'cards': [13, 11, 10, 7, 4, 3, 1, 0], 'query': 1}, 'output': 6},\n {'input': {'cards': [4, 2, 1, -1], 'query': 4}, 'output': 0},\n {'input': {'cards': [3, -1, -9, -127], 'query': -127}, 'output': 3},\n {'input': {'cards': [6], 'query': 6}, 'output': 0},\n {'input': {'cards': [9, 7, 5, 2, -9], 'query': 4}, 'output': -1},\n {'input': {'cards': [], 'query': 7}, 'output': -1},\n {'input': {'cards': [8, 8, 6, 6, 6, 6, 6, 3, 2, 2, 2, 0, 0, 0], 'query': 3},\n  'output': 7},\n {'input': {'cards': [8, 8, 6, 6, 6, 6, 6, 6, 3, 2, 2, 2, 0, 0, 0],\n   'query': 6},\n  'output': 2}]",
      "metadata": {},
      "execution_count": null,
      "outputs": []
    },
    {
      "cell_type": "markdown",
      "source": "##### Step#3:\nsolution steps: **(linear search ⇒ brute force solution)**\n1.  Create a variable `position` with the value 0.\n2.  Check whether the number at index `position` in `card` equals `query`.\n3.  If it does, `position` is the answer and can be returned from the function\n4.  If not, increment the value of `position` by 1, and repeat steps 2 to 5 till we reach the last position.\n5.  If the number was not found, return `-1`.\n\n##### Step#4:\nSolution implementation:",
      "metadata": {}
    },
    {
      "cell_type": "code",
      "source": "def locate_card_linear(cards, query):\n    position = 0\n    while position < len(cards):\n        if cards[position] == query:\n            return position\n        position += 1\n    return -1\n#test the solution using all test cases:\ndef evaluate_test_cases(locate_card_linear, tests):\n    result = []\n    for test in tests:\n        result.append(locate_card_linear(test['input']['cards'], test['input']['query']))\n    print(result)\n    \nevaluate_test_cases(locate_card_linear, tests)\n# test single use case:  \nlocate_card_linear(tests[8]['input']['cards'], tests[8]['input']['query'])",
      "metadata": {
        "trusted": true
      },
      "execution_count": 45,
      "outputs": [
        {
          "name": "stdout",
          "text": "[3, 6, 0, 3, 0, -1, -1, 7, 2]\n",
          "output_type": "stream"
        },
        {
          "execution_count": 45,
          "output_type": "execute_result",
          "data": {
            "text/plain": "2"
          },
          "metadata": {}
        }
      ]
    },
    {
      "cell_type": "markdown",
      "source": "##### Step#5:\nthe time complexity of linear search is **O(N)** and its space complexity is **O(1)**.",
      "metadata": {}
    },
    {
      "cell_type": "markdown",
      "source": "##### Step#6:\nApply binary search technique.\nBinary search has multiple special cases should be handled so we will try handle it with its conditions in our code.\n\n### Generic Binary Search\n\nHere is the general strategy behind binary search, which is applicable to a variety of problems:\n\n1.  Come up with a condition to determine whether the answer lies before, after or at a given position\n2.  Retrieve the midpoint and the middle element of the list.\n3.  If it is the answer, return the middle position as the answer.\n4.  If answer lies before it, repeat the search with the first half of the list\n5.  If the answer lies after it, repeat the search with the second half of the list.\n\n**Note**: the time complexity of linear search is **O(log N)** and its space complexity is **O(1)**.\n\nHere is the generic algorithm for binary search, implemented in Python:",
      "metadata": {}
    },
    {
      "cell_type": "code",
      "source": "def binary_search(lo, hi, condition):\n    while lo <= hi:\n        mid = (lo + hi) // 2\n        result = condition(mid)\n        if result == 'found':\n            return mid\n        elif result == 'left':\n            hi = mid - 1\n        else:\n            lo = mid + 1\n    return -1\n\ndef locate_card(cards, query):\n    \n    def condition(mid):\n        if cards[mid] == query:\n            if mid > 0 and cards[mid-1] == query:\n                return 'left'\n            else:\n                return 'found'\n        elif cards[mid] < query:\n            return 'left'\n        else:\n            return 'right'\n    \n    return binary_search(0, len(cards) - 1, condition)\n\n",
      "metadata": {
        "trusted": true
      },
      "execution_count": 46,
      "outputs": []
    },
    {
      "cell_type": "code",
      "source": "#test single use case:\nlocate_card(tests[8]['input']['cards'], tests[8]['input']['query'])\n#test all use cases:\nevaluate_test_cases(locate_card, tests)\n",
      "metadata": {
        "trusted": true
      },
      "execution_count": 48,
      "outputs": [
        {
          "name": "stdout",
          "text": "[3, 6, 0, 3, 0, -1, -1, 7, 2]\n",
          "output_type": "stream"
        }
      ]
    },
    {
      "cell_type": "code",
      "source": "",
      "metadata": {},
      "execution_count": null,
      "outputs": []
    }
  ]
}