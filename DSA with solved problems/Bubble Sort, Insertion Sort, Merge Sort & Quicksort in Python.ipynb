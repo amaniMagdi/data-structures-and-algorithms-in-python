{
  "cells": [
    {
      "cell_type": "markdown",
      "metadata": {},
      "source": [
        "\n",
        "> ### Problem\n",
        "\n",
        "In this notebook, we'll focus on solving the following problem:\n",
        "\n",
        "> **QUESTION 1**: You're working on a new feature on Jovian called \"Top Notebooks of the Week\". Write a function to sort a list of notebooks in decreasing order of likes. Keep in mind that up to millions of notebooks can be created every week, so your function needs to be as efficient as possible.\n",
        "\n",
        "The problem of sorting a list of objects comes up over and over in computer science and software development, and it's important to understand common approaches for sorting, and the trade-offs they offer. Before we solve the above problem, we'll solve a simplified version of the problem:\n",
        "\n",
        "> **QUESTION 2**: Write a program to sort a list of numbers.\n",
        "\n",
        "\"Sorting\" usually refers to \"sorting in ascending order\", unless specified otherwise.\n"
      ]
    },
    {
      "cell_type": "markdown",
      "metadata": {},
      "source": [
        "\n",
        "\n",
        "**bubble sort**, as it causes smaller elements to _bubble_ to the top and larger to _sink_ to the bottom.\n",
        "\n",
        "**Steps**\n",
        "1.  Iterate over the list of numbers, starting from the left\n",
        "2.  Compare each number with the number that follows it\n",
        "3.  If the number is greater than the one that follows it, swap the two elements\n",
        "4.  Repeat steps 1 to 3 till the list is sorted.\n",
        "\n",
        "We need to repeat steps 1 to 3 at most `n-1` times to ensure that the array is sorted.\n",
        "\n",
        "**Time & Space Complexity**\n",
        "\n",
        "The core operations in bubble sort are \"compare\" and \"swap\". To analyze the time complexity, we can simply count the total number of comparisons being made, since the total number of swaps will be less than or equal to the total number of comparisons.\n",
        "\n",
        "> Time Complexity: `O(n2)`\n",
        "\n",
        "> Space Complexity: `O(1)`"
      ]
    },
    {
      "cell_type": "code",
      "execution_count": 4,
      "metadata": {
        "trusted": true
      },
      "outputs": [],
      "source": [
        "nums = list(range(10000)) #example of list\n",
        "for _ in range(len(nums) - 1):\n",
        "    for i in range(len(nums) - 1):\n",
        "        if nums[i] > nums[i+1]:\n",
        "            nums[i], nums[i+1] = nums[i+1], nums[i]"
      ]
    },
    {
      "cell_type": "markdown",
      "metadata": {},
      "source": [
        "**Insertion Sort**\n",
        "It keeps the initial portion of the array sorted and insert the remaining elements one by one at the right position."
      ]
    },
    {
      "cell_type": "code",
      "execution_count": null,
      "metadata": {},
      "outputs": [],
      "source": [
        "def insertion_sort(nums):\n",
        "    nums = list(nums)\n",
        "    for i in range(len(nums)):\n",
        "        cur = nums.pop(i)\n",
        "        j = i-1\n",
        "        while j >=0 and nums[j] > cur:\n",
        "            j -= 1\n",
        "        nums.insert(j+1, cur)\n",
        "    return nums   "
      ]
    },
    {
      "cell_type": "markdown",
      "metadata": {},
      "source": [
        "#### Merge Sort\n",
        "we'll apply a strategy called **Divide and Conquer**, which has the following general steps:\n",
        "1.  Divide the inputs into two roughly equal parts.\n",
        "2.  Recursively solve the problem individually for each of the two parts.\n",
        "3.  Combine the results to solve the problem for the original inputs.\n",
        "4.  Include terminating conditions for small or indivisible inputs.\n",
        "Here's a visual representation of the strategy:\n",
        "\n",
        "![alt](https://www.educative.io/api/edpresso/shot/5327356208087040/image/6475288173084672)\n",
        "\n",
        "Following a visual representation of the divide and conquer applied for sorting numbers. This algorithm is known as merge sort:\n",
        "\n",
        "![alt](https://upload.wikimedia.org/wikipedia/commons/thumb/e/e6/Merge_sort_algorithm_diagram.svg/2560px-Merge_sort_algorithm_diagram.svg.png)"
      ]
    },
    {
      "cell_type": "markdown",
      "metadata": {},
      "source": [
        "Here's a step-by-step description for merge sort:\n",
        "\n",
        "1.  If the input list is empty or contains just one element, it is already sorted. Return it.\n",
        "2.  If not, divide the list of numbers into two roughly equal parts.\n",
        "3.  Sort each part recursively using the merge sort algorithm. You'll get back two sorted lists.\n",
        "4.  Merge the two sorted lists to get a single sorted list"
      ]
    },
    {
      "cell_type": "markdown",
      "metadata": {},
      "source": [
        "Let's implement the merge sort algorithm assuming we already have a helper function called `merge` for merging two sorted arrays."
      ]
    },
    {
      "cell_type": "code",
      "execution_count": 1,
      "metadata": {},
      "outputs": [],
      "source": [
        "def merge_sort(nums):\n",
        "    # Terminating condition (list of 0 or 1 elements)\n",
        "    if len(nums) <= 1:\n",
        "        return nums\n",
        "    \n",
        "    # Get the midpoint\n",
        "    mid = len(nums) // 2\n",
        "    \n",
        "    # Split the list into two halves\n",
        "    left = nums[:mid]\n",
        "    right = nums[mid:]\n",
        "    \n",
        "    # Solve the problem for each half recursively\n",
        "    left_sorted, right_sorted = merge_sort(left), merge_sort(right)\n",
        "    \n",
        "    # Combine the results of the two halves\n",
        "    sorted_nums =  merge(left_sorted, right_sorted)\n",
        "    \n",
        "    return sorted_nums"
      ]
    },
    {
      "cell_type": "code",
      "execution_count": 2,
      "metadata": {},
      "outputs": [],
      "source": [
        "def merge(nums1, nums2):    \n",
        "    # List to store the results \n",
        "    merged = []\n",
        "    \n",
        "    # Indices for iteration\n",
        "    i, j = 0, 0\n",
        "    \n",
        "    # Loop over the two lists\n",
        "    while i < len(nums1) and j < len(nums2):        \n",
        "        \n",
        "        # Include the smaller element in the result and move to next element\n",
        "        if nums1[i] <= nums2[j]:\n",
        "            merged.append(nums1[i])\n",
        "            i += 1 \n",
        "        else:\n",
        "            merged.append(nums2[j])\n",
        "            j += 1\n",
        "    \n",
        "    # Get the remaining parts\n",
        "    nums1_tail = nums1[i:]\n",
        "    nums2_tail = nums2[j:]\n",
        "    \n",
        "    # Return the final merged array\n",
        "    return merged + nums1_tail + nums2_tail"
      ]
    },
    {
      "cell_type": "markdown",
      "metadata": {},
      "source": [
        "Two merge two sorted arrays, we can repeatedly compare the two least elements of each array, and copy over the smaller one into a new array.\n",
        "\n",
        "Here's a visual representation of the merge operation:\n",
        "\n",
        "![alt](https://i.imgur.com/XeEpa0U.png)\n",
        "\n"
      ]
    },
    {
      "cell_type": "markdown",
      "metadata": {},
      "source": [
        "#### Time & Space Complexity of Merge Sort:\n",
        "> **Time Complexity** is O(nlogn)\n",
        "\n",
        "> **Space Complexity** is O(n)"
      ]
    },
    {
      "cell_type": "markdown",
      "metadata": {},
      "source": [
        "#### Quicksort\n",
        "\n",
        "To overcome the space inefficiencies of merge sort, we'll study another divide-and-conquer based sorting algorithm called **quicksort**, which works as follows:\n",
        "\n",
        "1.  If the list is empty or has just one element, return it. It's already sorted.\n",
        "2.  Pick a random element from the list. This element is called a _pivot_.\n",
        "3.  Reorder the list so that all elements with values less than or equal to the pivot come before the pivot, while all elements with values greater than the pivot come after it. This operation is called _partitioning_.\n",
        "4.  The pivot element divides the array into two parts which can be sorted independently by making a recursive call to quicksort.\n",
        "\n",
        "![alt](https://images.deepai.org/glossary-terms/a5228ea07c794b468efd1b7f758b9ead/Quicksort.png)\n",
        "\n",
        "The key observation here is that after the partition, the pivot element is at its right place in the sorted array, and the two parts of the array can be sorted independently in-place.\n",
        "\n",
        "Here's an implementation of quicksort, assuming we already have a helper function called `partitions` which picks a pivot, partitions the array in-place, and returns the position of the pivot element."
      ]
    },
    {
      "cell_type": "code",
      "execution_count": 2,
      "metadata": {},
      "outputs": [],
      "source": [
        "def quicksort(nums, start=0, end=None):\n",
        "    # print('quicksort', nums, start, end)\n",
        "    if end is None:\n",
        "        nums = list(nums)\n",
        "        end = len(nums) - 1\n",
        "    \n",
        "    if start < end:\n",
        "        pivot = partition(nums, start, end)\n",
        "        quicksort(nums, start, pivot-1)\n",
        "        quicksort(nums, pivot+1, end)\n",
        "\n",
        "    return nums"
      ]
    },
    {
      "cell_type": "markdown",
      "metadata": {},
      "source": [
        "Here's how the partition operation works([source](https://jovian.com/outlink?url=https%3A%2F%2Fmedium.com%2Fbasecs%2Fpivoting-to-understand-quicksort-part-1-75178dfb9313)):\n",
        "\n",
        "![alt](https://i.imgur.com/Igk7Kr4.png)\n",
        "\n",
        "Here's an implementation of partition, which uses the last element of the list as a pivot:"
      ]
    },
    {
      "cell_type": "code",
      "execution_count": 1,
      "metadata": {},
      "outputs": [],
      "source": [
        "def partition(nums, start=0, end=None):\n",
        "    # print('partition', nums, start, end)\n",
        "    if end is None:\n",
        "        end = len(nums) - 1\n",
        "    \n",
        "    # Initialize right and left pointers\n",
        "    l, r = start, end-1\n",
        "    \n",
        "    # Iterate while they're apart\n",
        "    while r > l:\n",
        "        # print('  ', nums, l, r)\n",
        "        # Increment left pointer if number is less or equal to pivot\n",
        "        if nums[l] <= nums[end]:\n",
        "            l += 1\n",
        "        \n",
        "        # Decrement right pointer if number is greater than pivot\n",
        "        elif nums[r] > nums[end]:\n",
        "            r -= 1\n",
        "        \n",
        "        # Two out-of-place elements found, swap them\n",
        "        else:\n",
        "            nums[l], nums[r] = nums[r], nums[l]\n",
        "    # print('  ', nums, l, r)\n",
        "    # Place the pivot between the two parts\n",
        "    if nums[l] > nums[end]:\n",
        "        nums[l], nums[end] = nums[end], nums[l]\n",
        "        return l\n",
        "    else:\n",
        "        return end"
      ]
    },
    {
      "cell_type": "markdown",
      "metadata": {},
      "source": [
        "#### Time & Space Complexity of Quicksort:\n",
        "\n",
        "> **Time Complexity** O(nlogn) is called the average-case complexity and the worst-case complexity of quicksort is O(n2).\n",
        "\n",
        "  \n",
        "\n",
        "> **Space Complexity** is O(1)"
      ]
    },
    {
      "cell_type": "markdown",
      "metadata": {},
      "source": [
        "### Custom Comparison Functions\n",
        "\n",
        "Let's return to our original problem statement now.\n",
        "\n",
        "> **QUESTION 1**: You're working on a new feature on Jovian called \"Top Notebooks of the Week\". Write a function to sort a list of notebooks in decreasing order of likes. Keep in mind that up to millions of notebooks can be created every week, so your function needs to be as efficient as possible.\n",
        "\n",
        "First, we need to sort objects, not just numbers. Also, we want to sort them in the descending order of likes. To achieve this, all we need is a custom comparison function to compare two notebooks.\n",
        "\n",
        "Let's create a class that captures basic information about notebooks."
      ]
    },
    {
      "cell_type": "code",
      "execution_count": 1,
      "metadata": {},
      "outputs": [],
      "source": [
        "class Notebook:\n",
        "    def __init__(self, title, username, likes):\n",
        "        self.title, self.username, self.likes = title, username, likes\n",
        "        \n",
        "    def __repr__(self):\n",
        "        return 'Notebook <\"{}/{}\", {} likes>'.format(self.username, self.title, self.likes)"
      ]
    },
    {
      "cell_type": "code",
      "execution_count": 5,
      "metadata": {},
      "outputs": [],
      "source": [
        "#let's create some sample notebooks:\n",
        "nb0 = Notebook('pytorch-basics', 'aakashns', 373)\n",
        "nb1 = Notebook('linear-regression', 'siddhant', 532)\n",
        "nb2 = Notebook('logistic-regression', 'vikas', 31)\n",
        "nb3 = Notebook('feedforward-nn', 'sonaksh', 94)\n",
        "nb4 = Notebook('cifar10-cnn', 'biraj', 2)\n",
        "nb5 = Notebook('cifar10-resnet', 'tanya', 29)\n",
        "nb6 = Notebook('anime-gans', 'hemanth', 80)\n",
        "nb7 = Notebook('python-fundamentals', 'vishal', 136)\n",
        "nb8 = Notebook('python-functions', 'aakashns', 74)\n",
        "nb9 = Notebook('python-numpy', 'siddhant', 92)\n",
        "notebooks = [nb0, nb1, nb2, nb3, nb4, nb5,nb6, nb7, nb8, nb9]"
      ]
    },
    {
      "cell_type": "code",
      "execution_count": 8,
      "metadata": {},
      "outputs": [
        {
          "data": {
            "text/plain": [
              "[Notebook <\"siddhant/linear-regression\", 532 likes>,\n",
              " Notebook <\"aakashns/pytorch-basics\", 373 likes>,\n",
              " Notebook <\"vishal/python-fundamentals\", 136 likes>,\n",
              " Notebook <\"sonaksh/feedforward-nn\", 94 likes>,\n",
              " Notebook <\"siddhant/python-numpy\", 92 likes>,\n",
              " Notebook <\"hemanth/anime-gans\", 80 likes>,\n",
              " Notebook <\"aakashns/python-functions\", 74 likes>,\n",
              " Notebook <\"vikas/logistic-regression\", 31 likes>,\n",
              " Notebook <\"tanya/cifar10-resnet\", 29 likes>,\n",
              " Notebook <\"biraj/cifar10-cnn\", 2 likes>]"
            ]
          },
          "execution_count": 8,
          "metadata": {},
          "output_type": "execute_result"
        }
      ],
      "source": [
        "def compare_likes(nb1, nb2):\n",
        "    if nb1.likes > nb2.likes:\n",
        "        return 'lesser'\n",
        "    elif nb1.likes == nb2.likes:\n",
        "        return 'equal'\n",
        "    elif nb1.likes < nb2.likes:\n",
        "        return 'greater'\n",
        "    \n",
        "def merge_sort(objs, compare=compare_likes):\n",
        "    if len(objs) < 2:\n",
        "        return objs\n",
        "    mid = len(objs) // 2\n",
        "    return merge(merge_sort(objs[:mid], compare), \n",
        "                 merge_sort(objs[mid:], compare), \n",
        "                 compare)\n",
        "\n",
        "def merge(left, right, compare):\n",
        "    i, j, merged = 0, 0, []\n",
        "    while i < len(left) and j < len(right):\n",
        "        result = compare(left[i], right[j])\n",
        "        if result == 'lesser' or result == 'equal':\n",
        "            merged.append(left[i])\n",
        "            i += 1\n",
        "        else:\n",
        "            merged.append(right[j])\n",
        "            j += 1\n",
        "    return merged + left[i:] + right[j:]\n",
        "sorted_notebooks = merge_sort(notebooks, compare_likes)\n",
        "sorted_notebooks"
      ]
    },
    {
      "cell_type": "code",
      "execution_count": null,
      "metadata": {},
      "outputs": [],
      "source": []
    }
  ],
  "metadata": {
    "kernelspec": {
      "display_name": "Python 3 (ipykernel)",
      "language": "python",
      "name": "python3"
    },
    "language_info": {
      "codemirror_mode": {
        "name": "ipython",
        "version": 3
      },
      "file_extension": ".py",
      "mimetype": "text/x-python",
      "name": "python",
      "nbconvert_exporter": "python",
      "pygments_lexer": "ipython3",
      "version": "3.10.8"
    }
  },
  "nbformat": 4,
  "nbformat_minor": 4
}
