{
  "cells": [
    {
      "cell_type": "markdown",
      "metadata": {},
      "source": [
        "\n",
        "> ### Problem\n",
        "\n",
        "In this notebook, we'll focus on solving the following problem:\n",
        "\n",
        "> **QUESTION 1**: You're working on a new feature on Jovian called \"Top Notebooks of the Week\". Write a function to sort a list of notebooks in decreasing order of likes. Keep in mind that up to millions of notebooks can be created every week, so your function needs to be as efficient as possible.\n",
        "\n",
        "The problem of sorting a list of objects comes up over and over in computer science and software development, and it's important to understand common approaches for sorting, and the trade-offs they offer. Before we solve the above problem, we'll solve a simplified version of the problem:\n",
        "\n",
        "> **QUESTION 2**: Write a program to sort a list of numbers.\n",
        "\n",
        "\"Sorting\" usually refers to \"sorting in ascending order\", unless specified otherwise.\n"
      ]
    },
    {
      "cell_type": "markdown",
      "metadata": {},
      "source": [
        "\n",
        "\n",
        "**bubble sort**, as it causes smaller elements to _bubble_ to the top and larger to _sink_ to the bottom.\n",
        "\n",
        "**Steps**\n",
        "1.  Iterate over the list of numbers, starting from the left\n",
        "2.  Compare each number with the number that follows it\n",
        "3.  If the number is greater than the one that follows it, swap the two elements\n",
        "4.  Repeat steps 1 to 3 till the list is sorted.\n",
        "\n",
        "We need to repeat steps 1 to 3 at most `n-1` times to ensure that the array is sorted.\n",
        "\n",
        "**Time & Space Complexity**\n",
        "\n",
        "The core operations in bubble sort are \"compare\" and \"swap\". To analyze the time complexity, we can simply count the total number of comparisons being made, since the total number of swaps will be less than or equal to the total number of comparisons.\n",
        "\n",
        "> Time Complexity: `O(n2)`\n",
        "\n",
        "> Space Complexity: `O(1)`"
      ]
    },
    {
      "cell_type": "code",
      "execution_count": 4,
      "metadata": {
        "trusted": true
      },
      "outputs": [],
      "source": [
        "nums = list(range(10000)) #example of list\n",
        "for _ in range(len(nums) - 1):\n",
        "    for i in range(len(nums) - 1):\n",
        "        if nums[i] > nums[i+1]:\n",
        "            nums[i], nums[i+1] = nums[i+1], nums[i]"
      ]
    },
    {
      "cell_type": "markdown",
      "metadata": {},
      "source": [
        "**Insertion Sort**\n",
        "It keeps the initial portion of the array sorted and insert the remaining elements one by one at the right position."
      ]
    },
    {
      "cell_type": "code",
      "execution_count": null,
      "metadata": {},
      "outputs": [],
      "source": [
        "def insertion_sort(nums):\n",
        "    nums = list(nums)\n",
        "    for i in range(len(nums)):\n",
        "        cur = nums.pop(i)\n",
        "        j = i-1\n",
        "        while j >=0 and nums[j] > cur:\n",
        "            j -= 1\n",
        "        nums.insert(j+1, cur)\n",
        "    return nums   "
      ]
    },
    {
      "cell_type": "code",
      "execution_count": null,
      "metadata": {},
      "outputs": [],
      "source": []
    }
  ],
  "metadata": {
    "kernelspec": {
      "display_name": "Python (Pyodide)",
      "language": "python",
      "name": "python"
    },
    "language_info": {
      "codemirror_mode": {
        "name": "python",
        "version": 3
      },
      "file_extension": ".py",
      "mimetype": "text/x-python",
      "name": "python",
      "nbconvert_exporter": "python",
      "pygments_lexer": "ipython3",
      "version": "3.8"
    }
  },
  "nbformat": 4,
  "nbformat_minor": 4
}
