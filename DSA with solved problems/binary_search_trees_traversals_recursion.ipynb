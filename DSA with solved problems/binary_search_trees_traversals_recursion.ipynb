{
  "metadata": {
    "language_info": {
      "codemirror_mode": {
        "name": "python",
        "version": 3
      },
      "file_extension": ".py",
      "mimetype": "text/x-python",
      "name": "python",
      "nbconvert_exporter": "python",
      "pygments_lexer": "ipython3",
      "version": "3.8"
    },
    "kernelspec": {
      "name": "python",
      "display_name": "Python (Pyodide)",
      "language": "python"
    }
  },
  "nbformat_minor": 4,
  "nbformat": 4,
  "cells": [
    {
      "cell_type": "markdown",
      "source": "### Data Structure is something we can represent using class.\n\n> **QUESTION**: As a senior backend engineer at Jovian, you are tasked with developing a fast in-memory data structure to manage profile information (username, name and email) for 100 million users. It should allow the following operations to be performed efficiently:\n> \n> 1.  **Insert** the profile information for a new user.\n> 2.  **Find** the profile information of a user, given their username\n> 3.  **Update** the profile information of a user, given their usrname\n> 4.  **List** all the users of the platform, sorted by username\n> \n> You can assume that usernames are unique.",
      "metadata": {}
    },
    {
      "cell_type": "markdown",
      "source": "### The Method\n\nHere's a systematic strategy we'll apply for solving problems:\n\n1.  State the problem clearly. Identify the input & output formats.\n2.  Come up with some example inputs & outputs. Try to cover all edge cases.\n3.  Come up with a correct solution for the problem. State it in plain English.\n4.  Implement the solution and test it using example inputs. Fix bugs, if any.\n5.  Analyze the algorithm's complexity and identify inefficiencies, if any.\n6.  Apply the right technique to overcome the inefficiency. Repeat steps 3 to 6.",
      "metadata": {}
    },
    {
      "cell_type": "markdown",
      "source": "### 1. State the problem clearly. Identify the input & output formats.\n\n##### Problem\n\n> We need to create a data structure which can store 100 million records and perform insertion, search, update and list operations efficiently.\n\n ##### Input\n> The key inputs to our data structure are user profiles, which contain the username, name and email of a user.",
      "metadata": {}
    },
    {
      "cell_type": "code",
      "source": "class User():\n    def __init__(self, username, name, email):\n        self.username = username\n        self.name = name\n        self.email = email\n        print(\"User Created!\")\n        \n    def __repr__(self):\n        return \"User(username='{}', name='{}', email='{}')\".format(self.username, self.name, self.email)\n    \n    def __str__(self):\n        return self.__repr__()\n        ",
      "metadata": {
        "trusted": true
      },
      "execution_count": 22,
      "outputs": []
    },
    {
      "cell_type": "markdown",
      "source": "**Note**\n> \\__repr__() provides the official string representation of an object, aimed at the programmer.\n\n>\\__str__() provides the informal string representation of an object, aimed at the user.",
      "metadata": {}
    },
    {
      "cell_type": "markdown",
      "source": "##### Output\n\n>We can also express our desired data structure as a Python class `UserDatabase` with four methods: `insert`, `find`, `update` and `list_all`.",
      "metadata": {}
    },
    {
      "cell_type": "code",
      "source": "class UserDatabase:\n    def insert(self, user):\n        pass\n    \n    def find(self, username):\n        pass\n    \n    def update(self, user):\n        pass\n        \n    def list_all(self):\n        pass",
      "metadata": {
        "trusted": true
      },
      "execution_count": 4,
      "outputs": []
    },
    {
      "cell_type": "markdown",
      "source": "Note: It's good programming practice to list out the signatures of different class functions before we actually implement the class.",
      "metadata": {}
    },
    {
      "cell_type": "markdown",
      "source": "### 2. Come up with some example inputs & outputs.",
      "metadata": {}
    },
    {
      "cell_type": "code",
      "source": "aakash = User('aakash', 'Aakash Rai', 'aakash@example.com')\nbiraj = User('biraj', 'Biraj Das', 'biraj@example.com')\nhemanth = User('hemanth', 'Hemanth Jain', 'hemanth@example.com')\njadhesh = User('jadhesh', 'Jadhesh Verma', 'jadhesh@example.com')\nsiddhant = User('siddhant', 'Siddhant Sinha', 'siddhant@example.com')\nsonaksh = User('sonaksh', 'Sonaksh Kumar', 'sonaksh@example.com')\nvishal = User('vishal', 'Vishal Goel', 'vishal@example.com')",
      "metadata": {
        "trusted": true
      },
      "execution_count": 10,
      "outputs": [
        {
          "name": "stdout",
          "text": "User Created!\nUser Created!\nUser Created!\nUser Created!\nUser Created!\nUser Created!\nUser Created!\n",
          "output_type": "stream"
        }
      ]
    },
    {
      "cell_type": "markdown",
      "source": "### 3. Come up with a correct solution. State it in plain English.\n\nHere's a simple and easy solution to the problem: we store the `User` objects in a list sorted by usernames.\n\nThe various functions can be implemented as follows:\n\n1.  **Insert**: Loop through the list and add the new user at a position that keeps the list sorted.\n2.  **Find**: Loop through the list and find the user object with the username matching the query.\n3.  **Update**: Loop through the list, find the user object matching the query and update the details\n4.  **List**: Return the list of user objects.\n### 4. Implement the solution and test it using example inputs.\nThe code for implementing the above solution is also fairly straightfoward **(brute force solution)**\n",
      "metadata": {}
    },
    {
      "cell_type": "code",
      "source": "class UserDatabase:\n    def __init__(self):\n        self.users = []\n    \n    def insert(self, user):\n        i = 0\n        while i < len(self.users):\n            # Find the first username greater than the new user's username\n            if self.users[i].username > user.username:\n                break\n            i += 1\n        self.users.insert(i, user)\n    \n    def find(self, username):\n        for user in self.users:\n            if user.username == username:\n                return user\n    \n    def update(self, user):\n        target = self.find(user.username)\n        target.name, target.email = user.name, user.email\n        \n    def list_all(self):\n        return self.users\n    \ndatabase = UserDatabase()\ndatabase.insert(hemanth)\ndatabase.insert(aakash)\ndatabase.insert(siddhant)\nuser = database.find('siddhant')\nuser\ndatabase.update(User(username='siddhant', name='Siddhant U', email='siddhantu@example.com'))\nuser = database.find('siddhant')\nuser\ndatabase.list_all()",
      "metadata": {
        "trusted": true
      },
      "execution_count": 27,
      "outputs": [
        {
          "name": "stdout",
          "text": "User Created!\n",
          "output_type": "stream"
        },
        {
          "execution_count": 27,
          "output_type": "execute_result",
          "data": {
            "text/plain": "[User(username='aakash', name='Aakash Rai', email='aakash@example.com'),\n User(username='hemanth', name='Hemanth Jain', email='hemanth@example.com'),\n User(username='siddhant', name='Siddhant U', email='siddhantu@example.com')]"
          },
          "metadata": {}
        }
      ]
    },
    {
      "cell_type": "markdown",
      "source": "### 5. Analyze the algorithm's complexity and identify inefficiencies\nThe time complexities of the various operations are:\n\n1.  Insert: **O(N)**\n2.  Find: **O(N)**\n3.  Update: **O(N)**\n4.  List: **O(1)**\n\nWe must come up with a more efficient data structure! Choosing the right data structure for the requirements at hand is an important skill. It's apparent that a sorted list of users might not be the best data structure to organize profile information for millions of users.",
      "metadata": {}
    },
    {
      "cell_type": "markdown",
      "source": "### 6. Apply the right technique to overcome the inefficiency\nWe can limit the number of iterations required for common operations like find, insert and update by organizing our data in  **binary tree** structure.\n### Balanced Binary Search Trees \n<img src=\"https://i.imgur.com/Mqef5b3.png\" width=\"520\">\n For our use case, we require the binary tree to have some additional properties: \n \n 1. **Keys and Values**: Each node of the tree stores a key (a username) and a value (a `User` object). Only keys are shown in the picture above for brevity. A binary tree where nodes have both a key and a value is often referred to as a **map** or **treemap** (because it maps keys to values). \n 2. **Binary Search Tree**: The *left subtree* of any node only contains nodes with keys that are lexicographically smaller than the node's key, and the *right subtree* of any node only contains nodes with keys that lexicographically larger than the node's key. A tree that satisfies this property is called a **binary search trees**, and it's easy to locate a specific key by traversing a single path down from the root note.\n 3.  **Balanced Tree**: The tree is **balanced** i.e. it does not skew too heavily to one side or the other. The left and right subtrees of any node shouldn't differ in height/depth by more than 1 level. \n \n **Notes:** \n > Time complexity in a balanced BST is **O(log N)**.\n \n > The recursion is when the function call itself inside it.\n \n\n",
      "metadata": {}
    },
    {
      "cell_type": "markdown",
      "source": "**Exercise:** Create the following binary tree using the `TreeNode` class as a node (each node is TreeNode class ) and tuple .\n<img src=\"https://i.imgur.com/d7djJAf.png\" width=\"540\">",
      "metadata": {}
    },
    {
      "cell_type": "code",
      "source": "###implementation of binary tree as Data Structure:\nclass TreeNode:\n    def __init__(self, key):\n        self.key = key\n        self.left = None\n        self.right = None\n#convert from tuple to BT.\ntree_tuple = ((1,3,None), 2, ((None, 3,4), 5, (6,7,8)))\n#we will use recursion tocconvert tuple (tree_tuple) to Binary tree:\ndef parse_tuple(data):\n    if isinstance(data, tuple) and len(data) == 3:\n        node = TreeNode(data[1])\n        node.left = parse_tuple(data[0]) #recursion\n        node.right = parse_tuple(data[2]) #recursion\n    elif data == None:\n        node = None\n    else:\n        node = TreeNode(data)\n    return node\ntree2 = parse_tuple(tree_tuple)\n#test the code\nprint(tree2.right.left.right.key, tree2.right.right.left.key, tree2.right.right.right.key)\n\n",
      "metadata": {
        "trusted": true
      },
      "execution_count": 1,
      "outputs": [
        {
          "name": "stdout",
          "text": "4 6 8\n",
          "output_type": "stream"
        }
      ]
    },
    {
      "cell_type": "markdown",
      "source": "### Traversing a Binary Tree\nA _traversal_ refers to the process of visiting each node of a tree exactly once. _Visiting a node_ generally refers to adding the node's key to a list.\n",
      "metadata": {}
    },
    {
      "cell_type": "markdown",
      "source": "#### Inorder traversal\n\n1.  Traverse the left subtree recursively inorder.\n2.  Traverse the current node.\n3.  Traverse the right subtree recursively inorder.\n#### Preorder traversal\n\n1.  Traverse the current node.\n2.  Traverse the left subtree recursively preorder.\n3.  Traverse the right subtree recursively preorder.\n#### Postorder traversal\n\n\n1. Traverse the left subtree recursively preorder.\n2. Traverse the right subtree recursively preorder.\n3. Traverse the current node.\n\n`check below example for inorder traversal for a binary tree also preorder and postorder traversal are the same concept`\n> 1st we should make TreeNode to be the base of our binary tree data structure.\n\n> 2nd we should create the tree from the provided `tuple` (using recursion).\n\n> 3rd we will use the recursion to traverse the whole binary tree.",
      "metadata": {}
    },
    {
      "cell_type": "code",
      "source": "def traverse_in_order(node):\n    if node is None:\n        return []\n    return (traverse_in_order(node.left) + [node.key] + traverse_in_order(node.right))\n\ntraverse_in_order(tree2)",
      "metadata": {
        "trusted": true
      },
      "execution_count": 3,
      "outputs": [
        {
          "execution_count": 3,
          "output_type": "execute_result",
          "data": {
            "text/plain": "[1, 3, 2, 3, 4, 5, 6, 7, 8]"
          },
          "metadata": {}
        }
      ]
    },
    {
      "cell_type": "markdown",
      "source": "### Height and Size of a Binary Tree\n>The _height/depth_ of a binary tree is defined as the length of the longest path from its root node to a leaf. It can be computed recursively.\n\n>to get size of BT is to write a function to count the number of nodes in a binary tree.",
      "metadata": {}
    },
    {
      "cell_type": "code",
      "source": "def tree_height(node):\n    if node is None:\n        return 0\n    return 1 + max(tree_height(node.left), tree_height(node.right))\n\ndef tree_size(node):\n    if node is None:\n        return 0\n    return 1 + tree_size(node.left) + tree_size(node.right)",
      "metadata": {
        "trusted": true
      },
      "execution_count": 4,
      "outputs": []
    },
    {
      "cell_type": "markdown",
      "source": "As a final step, let's compile all the functions we've written so far as methods withing the TreeNode class itself. Encapsulation of data and functionality within the same class is a good programming practice.\n",
      "metadata": {}
    },
    {
      "cell_type": "code",
      "source": "class TreeNode():\n    def __init__(self, key):\n        self.key, self.left, self.right = key, None, None\n    \n    def height(self):\n        if self is None:\n            return 0\n        return 1 + max(TreeNode.height(self.left), TreeNode.height(self.right))\n    \n    def size(self):\n        if self is None:\n            return 0\n        return 1 + TreeNode.size(self.left) + TreeNode.size(self.right)\n\n    def traverse_in_order(self):\n        if self is None: \n            return []\n        return (TreeNode.traverse_in_order(self.left) + \n                [self.key] + \n                TreeNode.traverse_in_order(self.right))\n\n    def to_tuple(self):\n        if self is None:\n            return None\n        if self.left is None and self.right is None:\n            return self.key\n        return TreeNode.to_tuple(self.left),  self.key, TreeNode.to_tuple(self.right)\n    \n    def __str__(self):\n        return \"BinaryTree <{}>\".format(self.to_tuple())\n    \n    def __repr__(self):\n        return \"BinaryTree <{}>\".format(self.to_tuple())\n    \n    @staticmethod    \n    def parse_tuple(data):\n        if data is None:\n            node = None\n        elif isinstance(data, tuple) and len(data) == 3:\n            node = TreeNode(data[1])\n            node.left = TreeNode.parse_tuple(data[0])\n            node.right = TreeNode.parse_tuple(data[2])\n        else:\n            node = TreeNode(data)\n        return node",
      "metadata": {
        "trusted": true
      },
      "execution_count": 5,
      "outputs": []
    },
    {
      "cell_type": "markdown",
      "source": "### Binary Search Tree (BST)\n\nA binary search tree or BST is a binary tree that satisfies the following conditions:\n\n1.  The left subtree of any node only contains nodes with keys less than the node's key\n2.  The right subtree of any node only contains nodes with keys greater than the node's key\n\nIt follows from the above conditions that every subtree of a binary search tree must also be a binary search tree.\n**Note** It is normal that BST hasn't left or right subtree.\n\n> **QUESTIONs**: Write a function to check if a binary tree is a binary search tree (BST).\n\n> Write a function to find the maximum key in a binary tree.\n\n> Write a function to find the minimum key in a binary tree.\n\nHere's a function that covers all of the above:\n ",
      "metadata": {}
    },
    {
      "cell_type": "code",
      "source": "def remove_none(nums):\n    return [x for x in nums if x is not None]\n\ndef is_bst(node):\n    if node is None:\n        return True, None, None\n    \n    is_bst_l, min_l, max_l = is_bst(node.left)\n    is_bst_r, min_r, max_r = is_bst(node.right)\n    \n    is_bst_node = (is_bst_l and is_bst_r and \n              (max_l is None or node.key > max_l) and \n              (min_r is None or node.key < min_r))\n    \n    min_key = min(remove_none([min_l, node.key, min_r]))\n    max_key = max(remove_none([max_l, node.key, max_r]))\n    \n    # print(node.key, min_key, max_key, is_bst_node)\n        \n    return is_bst_node, min_key, max_key\n",
      "metadata": {
        "trusted": true
      },
      "execution_count": 1,
      "outputs": []
    },
    {
      "cell_type": "markdown",
      "source": "**Note**: \nSkewed/unbalanced BSTs are problematic because the height of such trees often ceases to logarithmic compared to the number of nodes in the tree. For instance the above tree has 7 nodes and height 7.\n\n<img src=\"https://i.imgur.com/lP5Thct.png\" width=\"520\"> \nThe length of the path traversed by `insert` is equal to the height of the tree (in the worst case). It follows that if the tree is balanced, the time complexity of insertion is `O(log N)` otherwise it is `O(N)`.\n",
      "metadata": {}
    },
    {
      "cell_type": "markdown",
      "source": "### Balanced Binary Trees\n\n> **QUESTION**: Write a function to determine if a binary tree is balanced.\n\nHere's a recursive strategy:\n\n1.  Ensure that the left subtree is balanced.\n2.  Ensure that the right subtree is balanced.\n3.  Ensure that the difference between heights of left subtree and right subtree is not more than 1.",
      "metadata": {}
    },
    {
      "cell_type": "code",
      "source": "def is_balanced(node):\n    if node is None:\n        return True, 0\n    balanced_l, height_l = is_balanced(node.left)\n    balanced_r, height_r = is_balanced(node.right)\n    balanced = balanced_l and balanced_r and abs(height_l - height_r) <=1\n    height = 1 + max(height_l, height_r)\n    return balanced, height",
      "metadata": {
        "trusted": true
      },
      "execution_count": 1,
      "outputs": []
    },
    {
      "cell_type": "markdown",
      "source": "### Balanced Binary Search Trees\n\n> **QUESTION**: Write a function to create a balanced BST from a sorted list/array of key-value pairs.\n\nWe can use a recursive strategy here, turning the middle element of the list into the root, and recursively creating left and right subtrees.\n\n> Let's define new class `BSTNode` to represent the nodes of of our tree. Apart from having properties `key`, `left` and `right`, we'll also store a `value` and pointer to the parent node (for easier upward traversal).",
      "metadata": {}
    },
    {
      "cell_type": "code",
      "source": "class BSTNode():\n    def __init__(self, key, value=None):\n        self.key = key\n        self.value = value\n        self.left = None\n        self.right = None\n        self.parent = None",
      "metadata": {
        "trusted": true
      },
      "execution_count": 6,
      "outputs": []
    },
    {
      "cell_type": "code",
      "source": "#data is Key and Value pairs.\ndef make_balanced_bst(data, lo=0, hi=None, parent=None):\n    if hi is None:\n        hi = len(data) - 1\n    if lo > hi:\n        return None\n    \n    mid = (lo + hi) // 2\n    key, value = data[mid]\n\n    root = BSTNode(key, value)\n    root.parent = parent\n    root.left = make_balanced_bst(data, lo, mid-1, root)\n    root.right = make_balanced_bst(data, mid+1, hi, root)\n    \n    return root",
      "metadata": {
        "trusted": true
      },
      "execution_count": 5,
      "outputs": []
    },
    {
      "cell_type": "markdown",
      "source": "### Balancing an Unbalanced BST\n\n> **QUESTION** Write a function to balance an unbalanced binary search tree.\n\n> a. We first perform an inorder traversal.\n\n> b. then create a balanced BST using the function defined earlier.\n\n\n##### a. List the nodes (perform an inorder traversal)\n\n> **QUESTION** Write a function to retrieve all the key-values pairs stored in a BST in the sorted order of keys.\n\nThe nodes can be listed in sorted order by performing an inorder traversal of the BST.",
      "metadata": {}
    },
    {
      "cell_type": "code",
      "source": "#a. List the nodes (perform an inorder traversal)\ndef list_all(node):\n    if node is None:\n        return []\n    return list_all(node.left) + [(node.key, node.value)] + list_all(node.right)",
      "metadata": {
        "trusted": true
      },
      "execution_count": 10,
      "outputs": []
    },
    {
      "cell_type": "markdown",
      "source": "##### b. Create a balanced BST",
      "metadata": {}
    },
    {
      "cell_type": "code",
      "source": "def balance_bst(node):\n    return make_balanced_bst(list_all(node))",
      "metadata": {
        "trusted": true
      },
      "execution_count": 9,
      "outputs": []
    },
    {
      "cell_type": "markdown",
      "source": "Thus, find and update from a balanced binary search tree is 300,000 times faster than our original solution. To speed up insertions, we may choose to perform the balancing periodically (e.g. once every 1000 insertions). This way, most insertions will be O (log N), but every 1000th insertion will take a few seconds. Another options is to rebalance the tree periodically at the end of every hour.",
      "metadata": {}
    },
    {
      "cell_type": "code",
      "source": "",
      "metadata": {},
      "execution_count": null,
      "outputs": []
    }
  ]
}