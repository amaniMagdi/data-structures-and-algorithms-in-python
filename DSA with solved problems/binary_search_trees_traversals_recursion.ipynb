{
  "metadata": {
    "language_info": {
      "codemirror_mode": {
        "name": "python",
        "version": 3
      },
      "file_extension": ".py",
      "mimetype": "text/x-python",
      "name": "python",
      "nbconvert_exporter": "python",
      "pygments_lexer": "ipython3",
      "version": "3.8"
    },
    "kernelspec": {
      "name": "python",
      "display_name": "Python (Pyodide)",
      "language": "python"
    }
  },
  "nbformat_minor": 4,
  "nbformat": 4,
  "cells": [
    {
      "cell_type": "markdown",
      "source": "### Data Structure is something we can represent using class.\n\n> **QUESTION 1**: As a senior backend engineer at Jovian, you are tasked with developing a fast in-memory data structure to manage profile information (username, name and email) for 100 million users. It should allow the following operations to be performed efficiently:\n> \n> 1.  **Insert** the profile information for a new user.\n> 2.  **Find** the profile information of a user, given their username\n> 3.  **Update** the profile information of a user, given their usrname\n> 4.  **List** all the users of the platform, sorted by username\n> \n> You can assume that usernames are unique.",
      "metadata": {}
    },
    {
      "cell_type": "markdown",
      "source": "### The Method\n\nHere's a systematic strategy we'll apply for solving problems:\n\n1.  State the problem clearly. Identify the input & output formats.\n2.  Come up with some example inputs & outputs. Try to cover all edge cases.\n3.  Come up with a correct solution for the problem. State it in plain English.\n4.  Implement the solution and test it using example inputs. Fix bugs, if any.\n5.  Analyze the algorithm's complexity and identify inefficiencies, if any.\n6.  Apply the right technique to overcome the inefficiency. Repeat steps 3 to 6.",
      "metadata": {}
    },
    {
      "cell_type": "markdown",
      "source": "### 1. State the problem clearly. Identify the input & output formats.\n\n##### Problem\n\n> We need to create a data structure which can store 100 million records and perform insertion, search, update and list operations efficiently.\n\n ##### Input\n> The key inputs to our data structure are user profiles, which contain the username, name and email of a user.",
      "metadata": {}
    },
    {
      "cell_type": "code",
      "source": "class User():\n    def __init__(self, username, name, email):\n        self.username = username\n        self.name = name\n        self.email = email\n        print(\"User Created!\")\n        \n    def __repr__(self):\n        return \"User(username='{}', name='{}', email='{}')\".format(self.username, self.name, self.email)\n    \n    def __str__(self):\n        return self.__repr__()\n        ",
      "metadata": {
        "trusted": true
      },
      "execution_count": 22,
      "outputs": []
    },
    {
      "cell_type": "markdown",
      "source": "**Note**\n> \\__repr__() provides the official string representation of an object, aimed at the programmer.\n\n>\\__str__() provides the informal string representation of an object, aimed at the user.",
      "metadata": {}
    },
    {
      "cell_type": "markdown",
      "source": "##### Output\n\n>We can also express our desired data structure as a Python class `UserDatabase` with four methods: `insert`, `find`, `update` and `list_all`.",
      "metadata": {}
    },
    {
      "cell_type": "code",
      "source": "class UserDatabase:\n    def insert(self, user):\n        pass\n    \n    def find(self, username):\n        pass\n    \n    def update(self, user):\n        pass\n        \n    def list_all(self):\n        pass",
      "metadata": {
        "trusted": true
      },
      "execution_count": 4,
      "outputs": []
    },
    {
      "cell_type": "markdown",
      "source": "Note: It's good programming practice to list out the signatures of different class functions before we actually implement the class.",
      "metadata": {}
    },
    {
      "cell_type": "markdown",
      "source": "### 2. Come up with some example inputs & outputs.",
      "metadata": {}
    },
    {
      "cell_type": "code",
      "source": "aakash = User('aakash', 'Aakash Rai', 'aakash@example.com')\nbiraj = User('biraj', 'Biraj Das', 'biraj@example.com')\nhemanth = User('hemanth', 'Hemanth Jain', 'hemanth@example.com')\njadhesh = User('jadhesh', 'Jadhesh Verma', 'jadhesh@example.com')\nsiddhant = User('siddhant', 'Siddhant Sinha', 'siddhant@example.com')\nsonaksh = User('sonaksh', 'Sonaksh Kumar', 'sonaksh@example.com')\nvishal = User('vishal', 'Vishal Goel', 'vishal@example.com')",
      "metadata": {
        "trusted": true
      },
      "execution_count": 10,
      "outputs": [
        {
          "name": "stdout",
          "text": "User Created!\nUser Created!\nUser Created!\nUser Created!\nUser Created!\nUser Created!\nUser Created!\n",
          "output_type": "stream"
        }
      ]
    },
    {
      "cell_type": "markdown",
      "source": "### 3. Come up with a correct solution. State it in plain English.\n\nHere's a simple and easy solution to the problem: we store the `User` objects in a list sorted by usernames.\n\nThe various functions can be implemented as follows:\n\n1.  **Insert**: Loop through the list and add the new user at a position that keeps the list sorted.\n2.  **Find**: Loop through the list and find the user object with the username matching the query.\n3.  **Update**: Loop through the list, find the user object matching the query and update the details\n4.  **List**: Return the list of user objects.\n### 4. Implement the solution and test it using example inputs.\nThe code for implementing the above solution is also fairly straightfoward **(brute force solution)**\n",
      "metadata": {}
    },
    {
      "cell_type": "code",
      "source": "class UserDatabase:\n    def __init__(self):\n        self.users = []\n    \n    def insert(self, user):\n        i = 0\n        while i < len(self.users):\n            # Find the first username greater than the new user's username\n            if self.users[i].username > user.username:\n                break\n            i += 1\n        self.users.insert(i, user)\n    \n    def find(self, username):\n        for user in self.users:\n            if user.username == username:\n                return user\n    \n    def update(self, user):\n        target = self.find(user.username)\n        target.name, target.email = user.name, user.email\n        \n    def list_all(self):\n        return self.users\n    \ndatabase = UserDatabase()\ndatabase.insert(hemanth)\ndatabase.insert(aakash)\ndatabase.insert(siddhant)\nuser = database.find('siddhant')\nuser\ndatabase.update(User(username='siddhant', name='Siddhant U', email='siddhantu@example.com'))\nuser = database.find('siddhant')\nuser\ndatabase.list_all()",
      "metadata": {
        "trusted": true
      },
      "execution_count": 27,
      "outputs": [
        {
          "name": "stdout",
          "text": "User Created!\n",
          "output_type": "stream"
        },
        {
          "execution_count": 27,
          "output_type": "execute_result",
          "data": {
            "text/plain": "[User(username='aakash', name='Aakash Rai', email='aakash@example.com'),\n User(username='hemanth', name='Hemanth Jain', email='hemanth@example.com'),\n User(username='siddhant', name='Siddhant U', email='siddhantu@example.com')]"
          },
          "metadata": {}
        }
      ]
    },
    {
      "cell_type": "markdown",
      "source": "### 5. Analyze the algorithm's complexity and identify inefficiencies\nThe time complexities of the various operations are:\n\n1.  Insert: **O(N)**\n2.  Find: **O(N)**\n3.  Update: **O(N)**\n4.  List: **O(1)**\n\nWe must come up with a more efficient data structure! Choosing the right data structure for the requirements at hand is an important skill. It's apparent that a sorted list of users might not be the best data structure to organize profile information for millions of users.",
      "metadata": {}
    },
    {
      "cell_type": "markdown",
      "source": "### 6. Apply the right technique to overcome the inefficiency\nWe can limit the number of iterations required for common operations like find, insert and update by organizing our data in  **binary tree** structure.\n### Balanced Binary Search Trees \n<img src=\"https://i.imgur.com/Mqef5b3.png\" width=\"520\">\n For our use case, we require the binary tree to have some additional properties: \n \n 1. **Keys and Values**: Each node of the tree stores a key (a username) and a value (a `User` object). Only keys are shown in the picture above for brevity. A binary tree where nodes have both a key and a value is often referred to as a **map** or **treemap** (because it maps keys to values). \n 2. **Binary Search Tree**: The *left subtree* of any node only contains nodes with keys that are lexicographically smaller than the node's key, and the *right subtree* of any node only contains nodes with keys that lexicographically larger than the node's key. A tree that satisfies this property is called a **binary search trees**, and it's easy to locate a specific key by traversing a single path down from the root note.\n 3.  **Balanced Tree**: The tree is **balanced** i.e. it does not skew too heavily to one side or the other. The left and right subtrees of any node shouldn't differ in height/depth by more than 1 level. \n \n **Notes:** \n > Time complexity in a balanced BST is **O(log N)**.\n \n > The recursion is when the function call itself inside it.\n \n\n",
      "metadata": {}
    },
    {
      "cell_type": "markdown",
      "source": "**Exercise:** Create the following binary tree using the `TreeNode` class as a node (each node is TreeNode class ) and tuple .\n<img src=\"https://i.imgur.com/d7djJAf.png\" width=\"540\">",
      "metadata": {}
    },
    {
      "cell_type": "code",
      "source": "###implementation of binary tree as Data Structure:\nclass TreeNode:\n    def __init__(self, key):\n        self.key = key\n        self.left = None\n        self.right = None\n#convert from tuple to BT.\ntree_tuple = ((1,3,None), 2, ((None, 3,4), 5, (6,7,8)))\n#we will use recursion tocconvert tuple (tree_tuple) to Binary tree:\ndef parse_tuple(data):\n    if isinstance(data, tuple) and len(data) == 3:\n        node = TreeNode(data[1])\n        node.left = parse_tuple(data[0]) #recursion\n        node.right = parse_tuple(data[2]) #recursion\n    elif data == None:\n        node = None\n    else:\n        node = TreeNode(data)\n    return node\ntree2 = parse_tuple(tree_tuple)\n#test the code\nprint(tree2.right.left.right.key, tree2.right.right.left.key, tree2.right.right.right.key)\n\n",
      "metadata": {
        "trusted": true
      },
      "execution_count": 1,
      "outputs": [
        {
          "name": "stdout",
          "text": "4 6 8\n",
          "output_type": "stream"
        }
      ]
    },
    {
      "cell_type": "markdown",
      "source": "### Traversing a Binary Tree\nA _traversal_ refers to the process of visiting each node of a tree exactly once. _Visiting a node_ generally refers to adding the node's key to a list.\n",
      "metadata": {}
    },
    {
      "cell_type": "markdown",
      "source": "#### Inorder traversal\n\n1.  Traverse the left subtree recursively inorder.\n2.  Traverse the current node.\n3.  Traverse the right subtree recursively inorder.\n#### Preorder traversal\n\n1.  Traverse the current node.\n2.  Traverse the left subtree recursively preorder.\n3.  Traverse the right subtree recursively preorder.\n#### Postorder traversal\n\n\n1. Traverse the left subtree recursively preorder.\n2. Traverse the right subtree recursively preorder.\n3. Traverse the current node.\n\n`check below example for inorder traversal for a binary tree also preorder and postorder traversal are the same concept`\n> 1st we should make TreeNode to be the base of our binary tree data structure.\n\n> 2nd we should create the tree from the provided `tuple` (using recursion).\n\n> 3rd we will use the recursion to traverse the whole binary tree.",
      "metadata": {}
    },
    {
      "cell_type": "code",
      "source": "def traverse_in_order(node):\n    if node is None:\n        return []\n    return (traverse_in_order(node.left) + [node.key] + traverse_in_order(node.right))\n\ntraverse_in_order(tree2)",
      "metadata": {
        "trusted": true
      },
      "execution_count": 3,
      "outputs": [
        {
          "execution_count": 3,
          "output_type": "execute_result",
          "data": {
            "text/plain": "[1, 3, 2, 3, 4, 5, 6, 7, 8]"
          },
          "metadata": {}
        }
      ]
    },
    {
      "cell_type": "code",
      "source": "",
      "metadata": {},
      "execution_count": null,
      "outputs": []
    }
  ]
}