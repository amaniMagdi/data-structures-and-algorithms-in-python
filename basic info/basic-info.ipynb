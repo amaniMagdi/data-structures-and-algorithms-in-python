{
  "cells": [
    {
      "cell_type": "markdown",
      "metadata": {},
      "source": [
        "### Why You Should Learn Data Structures and Algorithms:\n",
        "\n",
        " - You can think about a problem systematically and solve it systematically step-by-step.\n",
        " - You can envision different inputs, outputs, and edge cases for programs you write.\n",
        " - You can communicate your ideas clearly to co-workers and incorporate their suggestions.\n",
        " - Most importantly, you can convert your thoughts and ideas into working code that's also readable."
      ]
    },
    {
      "cell_type": "markdown",
      "metadata": {},
      "source": [
        "### Here's a systematic strategy we'll apply for solving problems:\n",
        "\n",
        " 1. State the problem clearly. Identify the input & output formats.\n",
        " 2. Come up with some example inputs & outputs. Try to cover all edge cases. \n",
        " >  You should state all test cases scenarios or at least create most of test caseses based on time you have.\n",
        " 3. Come up with a correct solution for the problem. State it in plain English.\n",
        " > Tip: Always try to express (speak or write) the algorithm in your own words before you start coding. \n",
        " It can be as brief or detailed as you require it to be. Writing is a great tool for thinking clearly. It's likely that you will find some parts of the solution difficult to express, which suggests that you are probably unable to think about it clearly.\n",
        "The more clearly you are able to express your thoughts, the easier it will be for you to turn into code.\n",
        "\n",
        " 4. Implement the solution and test it using example inputs. Fix bugs, if any.\n",
        "\n",
        " 5. Analyze the algorithm's complexity and identify inefficiencies, if any.\n",
        " \n",
        " 6. Apply the right technique to overcome the inefficiency. Repeat steps 3 to 6.\n",
        "\n"
      ]
    },
    {
      "cell_type": "markdown",
      "metadata": {},
      "source": [
        "### Complexity and Big O Notation\n",
        "#### Complexity \n",
        "of an algorithm is a measure of the amount of time and/or space required by an algorithm for an input of a given size e.g. `N`. Unless otherwise stated, the term _complexity_ always refers to the worst-case complexity (i.e. the highest possible time/space taken by the program/algorithm to process an input).\n",
        "#### Big O Notation\n",
        "Worst-case complexity is often expressed using the Big O notation. In the Big O, we drop fixed constants and lower powers of variables to capture the trend of relationship between the size of the input and the complexity of the algorithm i.e. if the complexity of the algorithm is `cN^3 + dN^2 + eN + f`, in the Big O notation it is expressed as **O(N^3)**"
      ]
    },
    {
      "cell_type": "code",
      "execution_count": null,
      "metadata": {},
      "outputs": [],
      "source": []
    }
  ],
  "metadata": {
    "kernelspec": {
      "display_name": "Python (Pyodide)",
      "language": "python",
      "name": "python"
    },
    "language_info": {
      "codemirror_mode": {
        "name": "python",
        "version": 3
      },
      "file_extension": ".py",
      "mimetype": "text/x-python",
      "name": "python",
      "nbconvert_exporter": "python",
      "pygments_lexer": "ipython3",
      "version": "3.8"
    }
  },
  "nbformat": 4,
  "nbformat_minor": 4
}
